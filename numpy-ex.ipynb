{
 "cells": [
  {
   "cell_type": "code",
   "execution_count": 1,
   "id": "abff1ad3-93fb-4a6c-8486-1726b2469ce1",
   "metadata": {},
   "outputs": [],
   "source": [
    "import numpy as np"
   ]
  },
  {
   "cell_type": "markdown",
   "id": "5c85675c-ef03-4a6f-b52c-9bc34304acdd",
   "metadata": {},
   "source": [
    "## DataTypes and Attributes"
   ]
  },
  {
   "cell_type": "code",
   "execution_count": 2,
   "id": "cad532d1-46dd-44d0-b69c-0dd02c7b6348",
   "metadata": {},
   "outputs": [
    {
     "data": {
      "text/plain": [
       "array([1, 2, 3])"
      ]
     },
     "execution_count": 2,
     "metadata": {},
     "output_type": "execute_result"
    }
   ],
   "source": [
    "a1 = np.array([1,2,3])\n",
    "a1"
   ]
  },
  {
   "cell_type": "code",
   "execution_count": 3,
   "id": "30b41002-8a4c-401b-848b-0538cbaf4d9c",
   "metadata": {},
   "outputs": [
    {
     "data": {
      "text/plain": [
       "numpy.ndarray"
      ]
     },
     "execution_count": 3,
     "metadata": {},
     "output_type": "execute_result"
    }
   ],
   "source": [
    "type(a1)"
   ]
  },
  {
   "cell_type": "code",
   "execution_count": 4,
   "id": "fe927ecb-9401-49fe-b65f-32edffa85628",
   "metadata": {},
   "outputs": [
    {
     "data": {
      "text/plain": [
       "1"
      ]
     },
     "execution_count": 4,
     "metadata": {},
     "output_type": "execute_result"
    }
   ],
   "source": [
    "a1.ndim"
   ]
  },
  {
   "cell_type": "code",
   "execution_count": 6,
   "id": "2ae18d4b-b133-43c7-882e-3e995948fcbd",
   "metadata": {},
   "outputs": [
    {
     "data": {
      "text/plain": [
       "array([[1, 2, 3],\n",
       "       [4, 5, 6]])"
      ]
     },
     "execution_count": 6,
     "metadata": {},
     "output_type": "execute_result"
    }
   ],
   "source": [
    "a2 = np.array([[1,2,3], [4,5,6]])\n",
    "a2"
   ]
  },
  {
   "cell_type": "code",
   "execution_count": 7,
   "id": "53bd290b-27d7-487d-8c7f-c734e80fefd0",
   "metadata": {},
   "outputs": [
    {
     "data": {
      "text/plain": [
       "2"
      ]
     },
     "execution_count": 7,
     "metadata": {},
     "output_type": "execute_result"
    }
   ],
   "source": [
    "a2.ndim"
   ]
  },
  {
   "cell_type": "code",
   "execution_count": 8,
   "id": "f12b35bf-3880-4f1e-bc08-cb4dc722cc69",
   "metadata": {},
   "outputs": [
    {
     "data": {
      "text/plain": [
       "array([[[ 1,  2,  3],\n",
       "        [ 3,  4,  5]],\n",
       "\n",
       "       [[ 6,  7,  8],\n",
       "        [ 9, 10, 11]]])"
      ]
     },
     "execution_count": 8,
     "metadata": {},
     "output_type": "execute_result"
    }
   ],
   "source": [
    "a3 = np.array([[[1,2,3],[3,4,5]],[[6,7,8], [9,10,11]]])\n",
    "a3"
   ]
  },
  {
   "cell_type": "code",
   "execution_count": 27,
   "id": "9ad24456-4001-4dfa-a016-f2b1c86d36e4",
   "metadata": {},
   "outputs": [
    {
     "data": {
      "text/plain": [
       "(2, 2, 3)"
      ]
     },
     "execution_count": 27,
     "metadata": {},
     "output_type": "execute_result"
    }
   ],
   "source": [
    "a3.shape"
   ]
  },
  {
   "cell_type": "code",
   "execution_count": 9,
   "id": "77d05e1d-4470-4bbb-b84d-c19be63b0f06",
   "metadata": {},
   "outputs": [
    {
     "data": {
      "text/plain": [
       "3"
      ]
     },
     "execution_count": 9,
     "metadata": {},
     "output_type": "execute_result"
    }
   ],
   "source": [
    "a3.ndim"
   ]
  },
  {
   "cell_type": "code",
   "execution_count": 10,
   "id": "cc4e2891-0539-410e-a12c-1593df686dc0",
   "metadata": {},
   "outputs": [],
   "source": [
    "import pandas as pd"
   ]
  },
  {
   "cell_type": "code",
   "execution_count": 12,
   "id": "62010acb-35c4-4e98-bea0-aa21fc66e14c",
   "metadata": {},
   "outputs": [
    {
     "data": {
      "text/html": [
       "<div>\n",
       "<style scoped>\n",
       "    .dataframe tbody tr th:only-of-type {\n",
       "        vertical-align: middle;\n",
       "    }\n",
       "\n",
       "    .dataframe tbody tr th {\n",
       "        vertical-align: top;\n",
       "    }\n",
       "\n",
       "    .dataframe thead th {\n",
       "        text-align: right;\n",
       "    }\n",
       "</style>\n",
       "<table border=\"1\" class=\"dataframe\">\n",
       "  <thead>\n",
       "    <tr style=\"text-align: right;\">\n",
       "      <th></th>\n",
       "      <th>0</th>\n",
       "      <th>1</th>\n",
       "      <th>2</th>\n",
       "    </tr>\n",
       "  </thead>\n",
       "  <tbody>\n",
       "    <tr>\n",
       "      <th>0</th>\n",
       "      <td>1</td>\n",
       "      <td>2</td>\n",
       "      <td>3</td>\n",
       "    </tr>\n",
       "    <tr>\n",
       "      <th>1</th>\n",
       "      <td>4</td>\n",
       "      <td>5</td>\n",
       "      <td>6</td>\n",
       "    </tr>\n",
       "  </tbody>\n",
       "</table>\n",
       "</div>"
      ],
      "text/plain": [
       "   0  1  2\n",
       "0  1  2  3\n",
       "1  4  5  6"
      ]
     },
     "execution_count": 12,
     "metadata": {},
     "output_type": "execute_result"
    }
   ],
   "source": [
    "pd.DataFrame(a2)"
   ]
  },
  {
   "cell_type": "code",
   "execution_count": 13,
   "id": "449c4ee7-ee60-4c1c-817c-6d5a9e7fc42a",
   "metadata": {},
   "outputs": [],
   "source": [
    "zeros = np.zeros((2,3))"
   ]
  },
  {
   "cell_type": "code",
   "execution_count": 14,
   "id": "230c5fc3-985c-4af7-946b-c27416f9d10e",
   "metadata": {},
   "outputs": [
    {
     "data": {
      "text/plain": [
       "array([[0., 0., 0.],\n",
       "       [0., 0., 0.]])"
      ]
     },
     "execution_count": 14,
     "metadata": {},
     "output_type": "execute_result"
    }
   ],
   "source": [
    "zeros"
   ]
  },
  {
   "cell_type": "code",
   "execution_count": 15,
   "id": "68ae702d-b4d2-4479-b9d2-c42840dcf9e9",
   "metadata": {},
   "outputs": [
    {
     "data": {
      "text/plain": [
       "6"
      ]
     },
     "execution_count": 15,
     "metadata": {},
     "output_type": "execute_result"
    }
   ],
   "source": [
    "zeros.size"
   ]
  },
  {
   "cell_type": "code",
   "execution_count": 16,
   "id": "ea78ff14-732d-4ad8-acc2-ce3e8e720e7e",
   "metadata": {},
   "outputs": [
    {
     "data": {
      "text/plain": [
       "(2, 3)"
      ]
     },
     "execution_count": 16,
     "metadata": {},
     "output_type": "execute_result"
    }
   ],
   "source": [
    "zeros.shape"
   ]
  },
  {
   "cell_type": "markdown",
   "id": "3bdf1a4a-19d2-46f0-9cb9-bdecdc9c128a",
   "metadata": {},
   "source": [
    "## np.random.seed()"
   ]
  },
  {
   "cell_type": "code",
   "execution_count": 25,
   "id": "316bbdaf-99cd-43db-8d00-d724b7481a4a",
   "metadata": {},
   "outputs": [
    {
     "data": {
      "text/plain": [
       "array([[0.13316945, 0.52341258],\n",
       "       [0.75040986, 0.66901324],\n",
       "       [0.46775286, 0.20484909],\n",
       "       [0.49076589, 0.37238469],\n",
       "       [0.47740115, 0.36589039]])"
      ]
     },
     "execution_count": 25,
     "metadata": {},
     "output_type": "execute_result"
    }
   ],
   "source": [
    "random1 = np.random.random((5,2))\n",
    "random1"
   ]
  },
  {
   "cell_type": "code",
   "execution_count": 26,
   "id": "aa81724d-b7d4-4811-a2f4-9591a304bfd6",
   "metadata": {},
   "outputs": [
    {
     "data": {
      "text/plain": [
       "array([[0.07630829, 0.77991879, 0.43840923],\n",
       "       [0.72346518, 0.97798951, 0.53849587],\n",
       "       [0.50112046, 0.07205113, 0.26843898],\n",
       "       [0.4998825 , 0.67923   , 0.80373904],\n",
       "       [0.38094113, 0.06593635, 0.2881456 ]])"
      ]
     },
     "execution_count": 26,
     "metadata": {},
     "output_type": "execute_result"
    }
   ],
   "source": [
    "np.random.seed(7)\n",
    "random2 = np.random.random((5,3))\n",
    "random2"
   ]
  },
  {
   "cell_type": "markdown",
   "id": "ca5cc6f1-21c6-4d95-8daf-c2b06b23e6a9",
   "metadata": {},
   "source": [
    "## STD and VAR"
   ]
  },
  {
   "cell_type": "code",
   "execution_count": 40,
   "id": "e18974b2-84c7-4736-8209-3a6ddd278c09",
   "metadata": {},
   "outputs": [],
   "source": [
    "times = np.array([1,1, 60, 60, 90, 90, 90, 120, 120, 120, 180, 240, 5000])"
   ]
  },
  {
   "cell_type": "code",
   "execution_count": 41,
   "id": "12ab70d1-54a9-4b37-a7e6-78a05830bd56",
   "metadata": {},
   "outputs": [
    {
     "data": {
      "text/plain": [
       "1710340.4852071006"
      ]
     },
     "execution_count": 41,
     "metadata": {},
     "output_type": "execute_result"
    }
   ],
   "source": [
    "np.var(times)"
   ]
  },
  {
   "cell_type": "code",
   "execution_count": 42,
   "id": "0e16b454-c62c-4e11-a11b-c57bf52e63ae",
   "metadata": {},
   "outputs": [
    {
     "data": {
      "text/plain": [
       "474.7692307692308"
      ]
     },
     "execution_count": 42,
     "metadata": {},
     "output_type": "execute_result"
    }
   ],
   "source": [
    "np.mean(times)"
   ]
  },
  {
   "cell_type": "code",
   "execution_count": 43,
   "id": "829112fb-8e7f-46ba-89ee-cbfe25431d54",
   "metadata": {},
   "outputs": [
    {
     "data": {
      "text/plain": [
       "1307.7998643550552"
      ]
     },
     "execution_count": 43,
     "metadata": {},
     "output_type": "execute_result"
    }
   ],
   "source": [
    "np.std(times)"
   ]
  },
  {
   "cell_type": "code",
   "execution_count": 44,
   "id": "f593ebae-1c86-4139-8624-edfbb6ba5274",
   "metadata": {},
   "outputs": [
    {
     "data": {
      "text/plain": [
       "90.0"
      ]
     },
     "execution_count": 44,
     "metadata": {},
     "output_type": "execute_result"
    }
   ],
   "source": [
    "np.median(times)"
   ]
  },
  {
   "cell_type": "code",
   "execution_count": 45,
   "id": "ebda64b3-69e9-4556-a4af-181a62575110",
   "metadata": {},
   "outputs": [
    {
     "data": {
      "text/plain": [
       "ModeResult(mode=90, count=3)"
      ]
     },
     "execution_count": 45,
     "metadata": {},
     "output_type": "execute_result"
    }
   ],
   "source": [
    "from scipy import stats\n",
    "m = stats.mode(times)\n",
    "m"
   ]
  },
  {
   "cell_type": "markdown",
   "id": "3a808b07-6cc1-49dd-b18e-f569e79498ff",
   "metadata": {},
   "source": [
    "## Dot product"
   ]
  },
  {
   "cell_type": "code",
   "execution_count": 46,
   "id": "bb636c03-5c6d-4add-a0ca-54a3d6442a44",
   "metadata": {},
   "outputs": [
    {
     "data": {
      "text/plain": [
       "array([[12, 15,  0],\n",
       "       [ 3,  3,  7],\n",
       "       [ 9, 19, 18],\n",
       "       [ 4,  6, 12],\n",
       "       [ 1,  6,  7]])"
      ]
     },
     "execution_count": 46,
     "metadata": {},
     "output_type": "execute_result"
    }
   ],
   "source": [
    "np.random.seed(0)\n",
    "sales = np.random.randint(20, size=(5,3))\n",
    "sales"
   ]
  },
  {
   "cell_type": "code",
   "execution_count": 47,
   "id": "6a9e67bc-b61a-441d-8d22-1a0d77862c87",
   "metadata": {},
   "outputs": [],
   "source": [
    "sales_df = pd.DataFrame(sales)"
   ]
  },
  {
   "cell_type": "code",
   "execution_count": 48,
   "id": "ee9d2d7d-ddbf-4053-b724-c5f32f193dec",
   "metadata": {},
   "outputs": [
    {
     "data": {
      "text/html": [
       "<div>\n",
       "<style scoped>\n",
       "    .dataframe tbody tr th:only-of-type {\n",
       "        vertical-align: middle;\n",
       "    }\n",
       "\n",
       "    .dataframe tbody tr th {\n",
       "        vertical-align: top;\n",
       "    }\n",
       "\n",
       "    .dataframe thead th {\n",
       "        text-align: right;\n",
       "    }\n",
       "</style>\n",
       "<table border=\"1\" class=\"dataframe\">\n",
       "  <thead>\n",
       "    <tr style=\"text-align: right;\">\n",
       "      <th></th>\n",
       "      <th>0</th>\n",
       "      <th>1</th>\n",
       "      <th>2</th>\n",
       "    </tr>\n",
       "  </thead>\n",
       "  <tbody>\n",
       "    <tr>\n",
       "      <th>0</th>\n",
       "      <td>12</td>\n",
       "      <td>15</td>\n",
       "      <td>0</td>\n",
       "    </tr>\n",
       "    <tr>\n",
       "      <th>1</th>\n",
       "      <td>3</td>\n",
       "      <td>3</td>\n",
       "      <td>7</td>\n",
       "    </tr>\n",
       "    <tr>\n",
       "      <th>2</th>\n",
       "      <td>9</td>\n",
       "      <td>19</td>\n",
       "      <td>18</td>\n",
       "    </tr>\n",
       "    <tr>\n",
       "      <th>3</th>\n",
       "      <td>4</td>\n",
       "      <td>6</td>\n",
       "      <td>12</td>\n",
       "    </tr>\n",
       "    <tr>\n",
       "      <th>4</th>\n",
       "      <td>1</td>\n",
       "      <td>6</td>\n",
       "      <td>7</td>\n",
       "    </tr>\n",
       "  </tbody>\n",
       "</table>\n",
       "</div>"
      ],
      "text/plain": [
       "    0   1   2\n",
       "0  12  15   0\n",
       "1   3   3   7\n",
       "2   9  19  18\n",
       "3   4   6  12\n",
       "4   1   6   7"
      ]
     },
     "execution_count": 48,
     "metadata": {},
     "output_type": "execute_result"
    }
   ],
   "source": [
    "sales_df"
   ]
  },
  {
   "cell_type": "code",
   "execution_count": 49,
   "id": "154b4650-ea43-4306-92c7-948df756c2a5",
   "metadata": {},
   "outputs": [],
   "source": [
    "prices = np.array([10, 8, 12])"
   ]
  },
  {
   "cell_type": "code",
   "execution_count": 50,
   "id": "3accb943-d5fd-47bc-90de-b4f4f85780bb",
   "metadata": {},
   "outputs": [
    {
     "data": {
      "text/plain": [
       "(3,)"
      ]
     },
     "execution_count": 50,
     "metadata": {},
     "output_type": "execute_result"
    }
   ],
   "source": [
    "prices.shape"
   ]
  },
  {
   "cell_type": "code",
   "execution_count": 51,
   "id": "00c7454f-1aa8-4589-9f61-f8cfb24b6539",
   "metadata": {},
   "outputs": [
    {
     "data": {
      "text/plain": [
       "array([10,  8, 12])"
      ]
     },
     "execution_count": 51,
     "metadata": {},
     "output_type": "execute_result"
    }
   ],
   "source": [
    "prices.T"
   ]
  },
  {
   "cell_type": "code",
   "execution_count": 52,
   "id": "26b6b1d1-bea9-4411-bfbd-0f848b3f6633",
   "metadata": {},
   "outputs": [
    {
     "data": {
      "text/plain": [
       "(3,)"
      ]
     },
     "execution_count": 52,
     "metadata": {},
     "output_type": "execute_result"
    }
   ],
   "source": [
    "prices.shape"
   ]
  },
  {
   "cell_type": "code",
   "execution_count": 53,
   "id": "cf3dfd40-b744-4cda-816b-670f4b57f518",
   "metadata": {},
   "outputs": [
    {
     "data": {
      "text/plain": [
       "<function ndarray.reshape>"
      ]
     },
     "execution_count": 53,
     "metadata": {},
     "output_type": "execute_result"
    }
   ],
   "source": [
    "prices.reshape"
   ]
  },
  {
   "cell_type": "code",
   "execution_count": 54,
   "id": "08b3edf2-255c-43ef-a69c-bdfa60478851",
   "metadata": {},
   "outputs": [
    {
     "data": {
      "text/plain": [
       "(3,)"
      ]
     },
     "execution_count": 54,
     "metadata": {},
     "output_type": "execute_result"
    }
   ],
   "source": [
    "prices.shape"
   ]
  },
  {
   "cell_type": "code",
   "execution_count": 55,
   "id": "74c74884-4cc1-4408-9e94-70a57b3079a8",
   "metadata": {},
   "outputs": [
    {
     "data": {
      "text/plain": [
       "(5, 3)"
      ]
     },
     "execution_count": 55,
     "metadata": {},
     "output_type": "execute_result"
    }
   ],
   "source": [
    "sales.T\n",
    "sales.shape"
   ]
  },
  {
   "cell_type": "code",
   "execution_count": 56,
   "id": "95ad4924-fa1e-4a64-97b8-7376651e4531",
   "metadata": {},
   "outputs": [
    {
     "data": {
      "text/plain": [
       "array([240, 138, 458, 232, 142])"
      ]
     },
     "execution_count": 56,
     "metadata": {},
     "output_type": "execute_result"
    }
   ],
   "source": [
    "np.dot(sales, prices)"
   ]
  },
  {
   "cell_type": "markdown",
   "id": "10ac27f6-ac7a-4a04-90c3-490ee6c18d73",
   "metadata": {},
   "source": [
    "## Images to array"
   ]
  },
  {
   "cell_type": "code",
   "execution_count": 57,
   "id": "e6d1e57e-a4bf-4533-897c-1f70dba72e8a",
   "metadata": {},
   "outputs": [],
   "source": [
    "from matplotlib.image import imread"
   ]
  },
  {
   "cell_type": "code",
   "execution_count": 58,
   "id": "7f918f12-2d23-4bb5-bdb3-8312e44d8813",
   "metadata": {},
   "outputs": [],
   "source": [
    "img = imread('Gemini_Generated_Image.jpeg')"
   ]
  },
  {
   "cell_type": "code",
   "execution_count": 59,
   "id": "67fb627d-c8cd-4ef5-b68a-e8a26483600e",
   "metadata": {},
   "outputs": [
    {
     "data": {
      "text/plain": [
       "array([[[126, 142,  97],\n",
       "        [129, 142,  96],\n",
       "        [117, 130,  84],\n",
       "        ...,\n",
       "        [103, 119,  72],\n",
       "        [ 93, 105,  67],\n",
       "        [ 52,  63,  29]],\n",
       "\n",
       "       [[ 92, 108,  63],\n",
       "        [ 85, 101,  56],\n",
       "        [ 56,  69,  25],\n",
       "        ...,\n",
       "        [ 95, 112,  67],\n",
       "        [ 72,  84,  46],\n",
       "        [ 44,  55,  21]],\n",
       "\n",
       "       [[ 56,  71,  30],\n",
       "        [ 71,  86,  45],\n",
       "        [ 45,  60,  19],\n",
       "        ...,\n",
       "        [ 72,  87,  46],\n",
       "        [ 55,  66,  32],\n",
       "        [ 43,  54,  22]],\n",
       "\n",
       "       ...,\n",
       "\n",
       "       [[ 42,  39,  24],\n",
       "        [ 39,  36,  21],\n",
       "        [ 43,  40,  25],\n",
       "        ...,\n",
       "        [ 26,  37,  33],\n",
       "        [ 28,  39,  35],\n",
       "        [ 30,  41,  35]],\n",
       "\n",
       "       [[ 40,  37,  22],\n",
       "        [ 46,  43,  28],\n",
       "        [ 46,  42,  30],\n",
       "        ...,\n",
       "        [ 25,  37,  33],\n",
       "        [ 28,  40,  36],\n",
       "        [ 31,  44,  37]],\n",
       "\n",
       "       [[ 47,  44,  29],\n",
       "        [ 59,  56,  41],\n",
       "        [ 57,  53,  41],\n",
       "        ...,\n",
       "        [ 26,  38,  34],\n",
       "        [ 29,  41,  37],\n",
       "        [ 33,  46,  39]]], dtype=uint8)"
      ]
     },
     "execution_count": 59,
     "metadata": {},
     "output_type": "execute_result"
    }
   ],
   "source": [
    "img"
   ]
  },
  {
   "cell_type": "code",
   "execution_count": 60,
   "id": "9061a8e9-8708-4c6e-942e-a69195c1b240",
   "metadata": {},
   "outputs": [
    {
     "data": {
      "text/plain": [
       "numpy.ndarray"
      ]
     },
     "execution_count": 60,
     "metadata": {},
     "output_type": "execute_result"
    }
   ],
   "source": [
    "type(img)"
   ]
  },
  {
   "cell_type": "code",
   "execution_count": 61,
   "id": "d32b2c49-20f2-4526-82c9-15c515037af6",
   "metadata": {},
   "outputs": [
    {
     "data": {
      "text/plain": [
       "(1536, 1536, 3)"
      ]
     },
     "execution_count": 61,
     "metadata": {},
     "output_type": "execute_result"
    }
   ],
   "source": [
    "img.shape"
   ]
  },
  {
   "cell_type": "code",
   "execution_count": null,
   "id": "c82b386f-26bc-4137-8903-b4642aea9596",
   "metadata": {},
   "outputs": [],
   "source": []
  }
 ],
 "metadata": {
  "kernelspec": {
   "display_name": "Python 3 (ipykernel)",
   "language": "python",
   "name": "python3"
  },
  "language_info": {
   "codemirror_mode": {
    "name": "ipython",
    "version": 3
   },
   "file_extension": ".py",
   "mimetype": "text/x-python",
   "name": "python",
   "nbconvert_exporter": "python",
   "pygments_lexer": "ipython3",
   "version": "3.11.9"
  }
 },
 "nbformat": 4,
 "nbformat_minor": 5
}
